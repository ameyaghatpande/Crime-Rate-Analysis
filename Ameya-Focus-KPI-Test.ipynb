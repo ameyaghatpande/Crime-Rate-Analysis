{
 "cells": [
  {
   "cell_type": "code",
   "execution_count": 161,
   "metadata": {
    "collapsed": true
   },
   "outputs": [],
   "source": [
    "# <aghatpande> on 12-Jan-2017\n",
    "# print all the outputs in a cell\n",
    "from IPython.core.interactiveshell import InteractiveShell\n",
    "InteractiveShell.ast_node_interactivity = \"all\""
   ]
  },
  {
   "cell_type": "code",
   "execution_count": 163,
   "metadata": {
    "collapsed": true
   },
   "outputs": [],
   "source": [
    "# <aghatpande> on 12-Jan-2017\n",
    "# Import all the libraries\n",
    "import pandas as pd\n",
    "import matplotlib.pyplot as plt\n",
    "import plotly.plotly as py\n",
    "import numpy as np\n",
    "from sklearn.preprocessing import StandardScaler\n",
    "import xlrd"
   ]
  },
  {
   "cell_type": "code",
   "execution_count": 164,
   "metadata": {
    "collapsed": true
   },
   "outputs": [],
   "source": [
    "# <aghatpande> on 12-Jan-2017\n",
    "# Load the Crime Data\n",
    "districtCrimeRatesFundingdf = pd.read_excel(\"Ameya-Take-Home-Case-Marketing-Data-Analyst.xlsx\", sheetname = \"District-Crime-Rates-Funding\")"
   ]
  },
  {
   "cell_type": "code",
   "execution_count": 165,
   "metadata": {
    "collapsed": false
   },
   "outputs": [
    {
     "data": {
      "text/plain": [
       "Index([u'District ID ', u'Crime Rate \\n(per 1M Residents)',\n",
       "       u'Violent Crime Rate (per 100K Residents)',\n",
       "       u'Annual Police Funding (Dollars per Resident)'],\n",
       "      dtype='object')"
      ]
     },
     "execution_count": 165,
     "metadata": {},
     "output_type": "execute_result"
    }
   ],
   "source": [
    "# <aghatpande> on 12-Jan-2017\n",
    "# Check the columns of the data\n",
    "districtCrimeRatesFundingdf.columns"
   ]
  },
  {
   "cell_type": "code",
   "execution_count": 166,
   "metadata": {
    "collapsed": false
   },
   "outputs": [],
   "source": [
    "# <aghatpande> on 12-Jan-2017\n",
    "# Rename the columns to more friendly names\n",
    "districtCrimeRatesFundingdf.rename(columns = {\"District ID \": \"District-ID\", \"Crime Rate \\n(per 1M Residents)\": \"Crime-Rate-per-1M-Residents\", \"Violent Crime Rate (per 100K Residents)\": \"Violent-Crime-Rate-per-100K-Residents\", \"Annual Police Funding (Dollars per Resident)\": \"Annual-Police-Funding-Dollars-per-Resident\"}, inplace=True)"
   ]
  },
  {
   "cell_type": "code",
   "execution_count": 167,
   "metadata": {
    "collapsed": false,
    "scrolled": true
   },
   "outputs": [
    {
     "data": {
      "text/html": [
       "<div>\n",
       "<table border=\"1\" class=\"dataframe\">\n",
       "  <thead>\n",
       "    <tr style=\"text-align: right;\">\n",
       "      <th></th>\n",
       "      <th>District-ID</th>\n",
       "      <th>Crime-Rate-per-1M-Residents</th>\n",
       "      <th>Violent-Crime-Rate-per-100K-Residents</th>\n",
       "      <th>Annual-Police-Funding-Dollars-per-Resident</th>\n",
       "    </tr>\n",
       "  </thead>\n",
       "  <tbody>\n",
       "    <tr>\n",
       "      <th>0</th>\n",
       "      <td>97</td>\n",
       "      <td>437</td>\n",
       "      <td>148</td>\n",
       "      <td>36</td>\n",
       "    </tr>\n",
       "    <tr>\n",
       "      <th>1</th>\n",
       "      <td>96</td>\n",
       "      <td>819</td>\n",
       "      <td>369</td>\n",
       "      <td>30</td>\n",
       "    </tr>\n",
       "    <tr>\n",
       "      <th>2</th>\n",
       "      <td>83</td>\n",
       "      <td>799</td>\n",
       "      <td>693</td>\n",
       "      <td>35</td>\n",
       "    </tr>\n",
       "    <tr>\n",
       "      <th>3</th>\n",
       "      <td>81</td>\n",
       "      <td>548</td>\n",
       "      <td>226</td>\n",
       "      <td>31</td>\n",
       "    </tr>\n",
       "    <tr>\n",
       "      <th>4</th>\n",
       "      <td>74</td>\n",
       "      <td>432</td>\n",
       "      <td>98</td>\n",
       "      <td>23</td>\n",
       "    </tr>\n",
       "  </tbody>\n",
       "</table>\n",
       "</div>"
      ],
      "text/plain": [
       "   District-ID  Crime-Rate-per-1M-Residents  \\\n",
       "0           97                          437   \n",
       "1           96                          819   \n",
       "2           83                          799   \n",
       "3           81                          548   \n",
       "4           74                          432   \n",
       "\n",
       "   Violent-Crime-Rate-per-100K-Residents  \\\n",
       "0                                    148   \n",
       "1                                    369   \n",
       "2                                    693   \n",
       "3                                    226   \n",
       "4                                     98   \n",
       "\n",
       "   Annual-Police-Funding-Dollars-per-Resident  \n",
       "0                                          36  \n",
       "1                                          30  \n",
       "2                                          35  \n",
       "3                                          31  \n",
       "4                                          23  "
      ]
     },
     "execution_count": 167,
     "metadata": {},
     "output_type": "execute_result"
    }
   ],
   "source": [
    "# <aghatpande> on 12-Jan-2017\n",
    "# See the sample data\n",
    "districtCrimeRatesFundingdf.head(5)"
   ]
  },
  {
   "cell_type": "code",
   "execution_count": 168,
   "metadata": {
    "collapsed": true
   },
   "outputs": [],
   "source": [
    "# <aghatpande> on 12-Jan-2017\n",
    "# Load the demographics data\n",
    "districtDemographicsdf = pd.read_excel(\"Ameya-Take-Home-Case-Marketing-Data-Analyst.xlsx\", sheetname = \"District-Demographics\")"
   ]
  },
  {
   "cell_type": "code",
   "execution_count": 169,
   "metadata": {
    "collapsed": false,
    "scrolled": true
   },
   "outputs": [
    {
     "data": {
      "text/plain": [
       "Index([u'District ID ',\n",
       "       u'% of People 25 Years+ with 4 or more Years of High School',\n",
       "       u'% of 16 to 19 year-olds not in highschool and not highschool graduates',\n",
       "       u'% of 18 to 24 year-olds in college',\n",
       "       u'% of people 25 years+ with at least 4 years of college'],\n",
       "      dtype='object')"
      ]
     },
     "execution_count": 169,
     "metadata": {},
     "output_type": "execute_result"
    }
   ],
   "source": [
    "districtDemographicsdf.columns"
   ]
  },
  {
   "cell_type": "code",
   "execution_count": 170,
   "metadata": {
    "collapsed": false
   },
   "outputs": [],
   "source": [
    "districtDemographicsdf.rename(columns = {\"District ID \": \"District-ID\"}, inplace=True)"
   ]
  },
  {
   "cell_type": "code",
   "execution_count": 171,
   "metadata": {
    "collapsed": true
   },
   "outputs": [],
   "source": [
    "# <aghatpande> on 12-Jan-2017\n",
    "# Calculate the Overall Crime rate per million. (Violent + Non Violent crimes)\n",
    "districtCrimeRatesFundingdf[\"overallCrimeRatesPer1M\"] = districtCrimeRatesFundingdf[\"Crime-Rate-per-1M-Residents\"] + districtCrimeRatesFundingdf[\"Violent-Crime-Rate-per-100K-Residents\"]*10"
   ]
  },
  {
   "cell_type": "code",
   "execution_count": 172,
   "metadata": {
    "collapsed": false
   },
   "outputs": [
    {
     "data": {
      "text/html": [
       "<div>\n",
       "<table border=\"1\" class=\"dataframe\">\n",
       "  <thead>\n",
       "    <tr style=\"text-align: right;\">\n",
       "      <th></th>\n",
       "      <th>District-ID</th>\n",
       "      <th>Crime-Rate-per-1M-Residents</th>\n",
       "      <th>Violent-Crime-Rate-per-100K-Residents</th>\n",
       "      <th>Annual-Police-Funding-Dollars-per-Resident</th>\n",
       "      <th>overallCrimeRatesPer1M</th>\n",
       "    </tr>\n",
       "  </thead>\n",
       "  <tbody>\n",
       "    <tr>\n",
       "      <th>0</th>\n",
       "      <td>97</td>\n",
       "      <td>437</td>\n",
       "      <td>148</td>\n",
       "      <td>36</td>\n",
       "      <td>1917</td>\n",
       "    </tr>\n",
       "    <tr>\n",
       "      <th>1</th>\n",
       "      <td>96</td>\n",
       "      <td>819</td>\n",
       "      <td>369</td>\n",
       "      <td>30</td>\n",
       "      <td>4509</td>\n",
       "    </tr>\n",
       "  </tbody>\n",
       "</table>\n",
       "</div>"
      ],
      "text/plain": [
       "   District-ID  Crime-Rate-per-1M-Residents  \\\n",
       "0           97                          437   \n",
       "1           96                          819   \n",
       "\n",
       "   Violent-Crime-Rate-per-100K-Residents  \\\n",
       "0                                    148   \n",
       "1                                    369   \n",
       "\n",
       "   Annual-Police-Funding-Dollars-per-Resident  overallCrimeRatesPer1M  \n",
       "0                                          36                    1917  \n",
       "1                                          30                    4509  "
      ]
     },
     "execution_count": 172,
     "metadata": {},
     "output_type": "execute_result"
    }
   ],
   "source": [
    "districtCrimeRatesFundingdf.head(2)"
   ]
  },
  {
   "cell_type": "code",
   "execution_count": 173,
   "metadata": {
    "collapsed": false
   },
   "outputs": [
    {
     "data": {
      "text/html": [
       "<div>\n",
       "<table border=\"1\" class=\"dataframe\">\n",
       "  <thead>\n",
       "    <tr style=\"text-align: right;\">\n",
       "      <th></th>\n",
       "      <th>overallCrimeRatesPer1M</th>\n",
       "      <th>Annual-Police-Funding-Dollars-per-Resident</th>\n",
       "    </tr>\n",
       "  </thead>\n",
       "  <tbody>\n",
       "    <tr>\n",
       "      <th>overallCrimeRatesPer1M</th>\n",
       "      <td>1.000000</td>\n",
       "      <td>0.516364</td>\n",
       "    </tr>\n",
       "    <tr>\n",
       "      <th>Annual-Police-Funding-Dollars-per-Resident</th>\n",
       "      <td>0.516364</td>\n",
       "      <td>1.000000</td>\n",
       "    </tr>\n",
       "  </tbody>\n",
       "</table>\n",
       "</div>"
      ],
      "text/plain": [
       "                                            overallCrimeRatesPer1M  \\\n",
       "overallCrimeRatesPer1M                                    1.000000   \n",
       "Annual-Police-Funding-Dollars-per-Resident                0.516364   \n",
       "\n",
       "                                            Annual-Police-Funding-Dollars-per-Resident  \n",
       "overallCrimeRatesPer1M                                                        0.516364  \n",
       "Annual-Police-Funding-Dollars-per-Resident                                    1.000000  "
      ]
     },
     "execution_count": 173,
     "metadata": {},
     "output_type": "execute_result"
    }
   ],
   "source": [
    "# <aghatpande> on 12-Jan-2017\n",
    "# Find the correlation between Police funding and Crime rates\n",
    "districtCrimeRatesFundingdf[[\"overallCrimeRatesPer1M\", \"Annual-Police-Funding-Dollars-per-Resident\"]].corr()"
   ]
  },
  {
   "cell_type": "code",
   "execution_count": 203,
   "metadata": {
    "collapsed": false
   },
   "outputs": [
    {
     "data": {
      "text/plain": [
       "<matplotlib.axes._subplots.AxesSubplot at 0x12a5ac110>"
      ]
     },
     "execution_count": 203,
     "metadata": {},
     "output_type": "execute_result"
    },
    {
     "data": {
      "image/png": "[encoded data removed]",
      "text/plain": [
       "<matplotlib.figure.Figure at 0x12a5f7150>"
      ]
     },
     "metadata": {},
     "output_type": "display_data"
    }
   ],
   "source": [
    "%matplotlib inline\n",
    "import matplotlib.pyplot as plt\n",
    "districtCrimeRatesFundingdf.plot.scatter(\"Annual-Police-Funding-Dollars-per-Resident\", \"overallCrimeRatesPer1M\")"
   ]
  },
  {
   "cell_type": "code",
   "execution_count": 175,
   "metadata": {
    "collapsed": false
   },
   "outputs": [
    {
     "data": {
      "text/plain": [
       "<matplotlib.axes._subplots.AxesSubplot at 0x129db5e10>"
      ]
     },
     "execution_count": 175,
     "metadata": {},
     "output_type": "execute_result"
    },
    {
     "data": {
      "image/png": "[encoded data removed]",
      "text/plain": [
       "<matplotlib.figure.Figure at 0x12951e990>"
      ]
     },
     "metadata": {},
     "output_type": "display_data"
    }
   ],
   "source": [
    "districtCrimeRatesFundingdf.plot.scatter(\"Annual-Police-Funding-Dollars-per-Resident\", \"Crime-Rate-per-1M-Residents\")"
   ]
  },
  {
   "cell_type": "code",
   "execution_count": 176,
   "metadata": {
    "collapsed": false
   },
   "outputs": [
    {
     "data": {
      "text/plain": [
       "<matplotlib.axes._subplots.AxesSubplot at 0x12a030710>"
      ]
     },
     "execution_count": 176,
     "metadata": {},
     "output_type": "execute_result"
    },
    {
     "data": {
      "image/png": "[encoded data removed]",
      "text/plain": [
       "<matplotlib.figure.Figure at 0x12a0c1a50>"
      ]
     },
     "metadata": {},
     "output_type": "display_data"
    }
   ],
   "source": [
    "districtCrimeRatesFundingdf.plot.scatter(\"Annual-Police-Funding-Dollars-per-Resident\", \"Violent-Crime-Rate-per-100K-Residents\")"
   ]
  },
  {
   "cell_type": "code",
   "execution_count": 180,
   "metadata": {
    "collapsed": false
   },
   "outputs": [],
   "source": [
    "# <aghatpande> on 12-Jan-2017\n",
    "# Combine the Crimes Data with the Demographics Data\n",
    "combineDF = pd.merge(districtCrimeRatesFundingdf, districtDemographicsdf, how=\"left\", on=\"District-ID\")"
   ]
  },
  {
   "cell_type": "code",
   "execution_count": 181,
   "metadata": {
    "collapsed": false
   },
   "outputs": [],
   "source": [
    "#combineDF.plot.scatter(\"% of People 25 Years+ with 4 or more Years of High School\", \"Crime-Rate-per-1M-Residents\")"
   ]
  },
  {
   "cell_type": "code",
   "execution_count": 182,
   "metadata": {
    "collapsed": false
   },
   "outputs": [],
   "source": [
    "#combineDF.plot.scatter(\"% of 16 to 19 year-olds not in highschool and not highschool graduates\", \"Crime-Rate-per-1M-Residents\")"
   ]
  },
  {
   "cell_type": "code",
   "execution_count": 183,
   "metadata": {
    "collapsed": false
   },
   "outputs": [],
   "source": [
    "#combineDF.plot.scatter(\"% of 18 to 24 year-olds in college\", \"Crime-Rate-per-1M-Residents\")"
   ]
  },
  {
   "cell_type": "code",
   "execution_count": 184,
   "metadata": {
    "collapsed": false
   },
   "outputs": [],
   "source": [
    "#combineDF.plot.scatter(\"% of people 25 years+ with at least 4 years of college\", \"Crime-Rate-per-1M-Residents\")"
   ]
  },
  {
   "cell_type": "markdown",
   "metadata": {},
   "source": [
    "#### Using Decision Tree Feature importances to find the most important factors in determining crime rate"
   ]
  },
  {
   "cell_type": "code",
   "execution_count": 185,
   "metadata": {
    "collapsed": true
   },
   "outputs": [],
   "source": [
    "import matplotlib.pyplot as plt\n",
    "import seaborn as sns\n",
    "import sklearn.tree as tree\n",
    "from sklearn.tree import DecisionTreeRegressor\n",
    "from sklearn.linear_model import LinearRegression\n",
    "from sklearn.metrics import mean_squared_error, r2_score"
   ]
  },
  {
   "cell_type": "code",
   "execution_count": 186,
   "metadata": {
    "collapsed": true
   },
   "outputs": [],
   "source": [
    "y = combineDF[\"overallCrimeRatesPer1M\"]\n",
    "X = combineDF.drop([\"overallCrimeRatesPer1M\", \"District-ID\", \"Crime-Rate-per-1M-Residents\", \"Violent-Crime-Rate-per-100K-Residents\"], axis=1)"
   ]
  },
  {
   "cell_type": "code",
   "execution_count": 187,
   "metadata": {
    "collapsed": false
   },
   "outputs": [
    {
     "data": {
      "text/plain": [
       "DecisionTreeRegressor(criterion='mse', max_depth=None, max_features=None,\n",
       "           max_leaf_nodes=None, min_impurity_split=1e-07,\n",
       "           min_samples_leaf=1, min_samples_split=2,\n",
       "           min_weight_fraction_leaf=0.0, presort=False, random_state=None,\n",
       "           splitter='best')"
      ]
     },
     "execution_count": 187,
     "metadata": {},
     "output_type": "execute_result"
    },
    {
     "name": "stdout",
     "output_type": "stream",
     "text": [
      "1. Feature Annual-Police-Funding-Dollars-per-Resident (0.560189)\n",
      "2. Feature % of People 25 Years+ with 4 or more Years of High School (0.205651)\n",
      "3. Feature % of 16 to 19 year-olds not in highschool and not highschool graduates (0.155104)\n",
      "4. Feature % of people 25 years+ with at least 4 years of college (0.040618)\n",
      "5. Feature % of 18 to 24 year-olds in college (0.038438)\n"
     ]
    }
   ],
   "source": [
    "tree = DecisionTreeRegressor()\n",
    "tree.fit(X, y)\n",
    "\n",
    "importances = tree.feature_importances_\n",
    "indices = np.argsort(importances)[::-1]\n",
    "for f in range(X.shape[1]):\n",
    "    print(\"%d. Feature %s (%f)\" % (f + 1, X.columns.values[indices[f]], importances[indices[f]]))"
   ]
  },
  {
   "cell_type": "markdown",
   "metadata": {},
   "source": [
    "#### Once the important features are identified, lets see its impact (Positive/Negative) on Crime rates"
   ]
  },
  {
   "cell_type": "markdown",
   "metadata": {},
   "source": [
    "##### Renaming the columns to short names which can be used in Regression model\n",
    "\n",
    "##### Column [% of People 25 Years+ with 4 or more Years of High School] becomes [A]\n",
    "##### Column [% of 16 to 19 year-olds not in highschool and not highschool graduates] becomes [B]\n",
    "##### Column [% of 18 to 24 year-olds in college] becomes [C]\n",
    "##### Column [% of people 25 years+ with at least 4 years of college] becomes [D]"
   ]
  },
  {
   "cell_type": "code",
   "execution_count": 196,
   "metadata": {
    "collapsed": false
   },
   "outputs": [],
   "source": [
    "combineDF.rename(columns = {\"% of People 25 Years+ with 4 or more Years of High School\":\"A\", \"% of 16 to 19 year-olds not in highschool and not highschool graduates\":\"B\", \"% of 18 to 24 year-olds in college\":\"C\", \"% of people 25 years+ with at least 4 years of college\":\"D\", \"Annual-Police-Funding-Dollars-per-Resident\":\"AnnualPoliceFundingDollarsPerResident\"}, inplace=True)"
   ]
  },
  {
   "cell_type": "code",
   "execution_count": 197,
   "metadata": {
    "collapsed": false
   },
   "outputs": [
    {
     "data": {
      "text/plain": [
       "Index([u'District-ID', u'Crime-Rate-per-1M-Residents',\n",
       "       u'Violent-Crime-Rate-per-100K-Residents',\n",
       "       u'AnnualPoliceFundingDollarsPerResident', u'overallCrimeRatesPer1M',\n",
       "       u'A', u'B', u'C', u'D'],\n",
       "      dtype='object')"
      ]
     },
     "execution_count": 197,
     "metadata": {},
     "output_type": "execute_result"
    }
   ],
   "source": [
    "combineDF.columns"
   ]
  },
  {
   "cell_type": "code",
   "execution_count": 199,
   "metadata": {
    "collapsed": false
   },
   "outputs": [
    {
     "name": "stdout",
     "output_type": "stream",
     "text": [
      "\n",
      "Coefficients for all android apps with log variables(Download,Raters,Age)\n",
      "\n",
      "                              OLS Regression Results                              \n",
      "==================================================================================\n",
      "Dep. Variable:     overallCrimeRatesPer1M   R-squared:                       0.342\n",
      "Model:                                OLS   Adj. R-squared:                  0.268\n",
      "Method:                     Least Squares   F-statistic:                     4.583\n",
      "Date:                    Sat, 13 Jan 2018   Prob (F-statistic):            0.00189\n",
      "Time:                            00:51:09   Log-Likelihood:                -494.63\n",
      "No. Observations:                      50   AIC:                             1001.\n",
      "Df Residuals:                          44   BIC:                             1013.\n",
      "Df Model:                               5                                         \n",
      "Covariance Type:                nonrobust                                         \n",
      "=========================================================================================================\n",
      "                                            coef    std err          t      P>|t|      [0.025      0.975]\n",
      "---------------------------------------------------------------------------------------------------------\n",
      "Intercept                               1.22e+04   9518.731      1.282      0.207   -6981.416    3.14e+04\n",
      "AnnualPoliceFundingDollarsPerResident   221.0839     62.021      3.565      0.001      96.089     346.079\n",
      "A                                      -245.1969    131.863     -1.859      0.070    -510.949      20.556\n",
      "B                                       -65.4886    202.590     -0.323      0.748    -473.782     342.804\n",
      "C                                       -65.2710     89.016     -0.733      0.467    -244.670     114.128\n",
      "D                                       268.2352    277.157      0.968      0.338    -290.339     826.809\n",
      "==============================================================================\n",
      "Omnibus:                       26.217   Durbin-Watson:                   1.912\n",
      "Prob(Omnibus):                  0.000   Jarque-Bera (JB):               54.597\n",
      "Skew:                           1.503   Prob(JB):                     1.39e-12\n",
      "Kurtosis:                       7.143   Cond. No.                     1.05e+03\n",
      "==============================================================================\n",
      "\n",
      "Warnings:\n",
      "[1] Standard Errors assume that the covariance matrix of the errors is correctly specified.\n",
      "[2] The condition number is large, 1.05e+03. This might indicate that there are\n",
      "strong multicollinearity or other numerical problems.\n"
     ]
    }
   ],
   "source": [
    "import statsmodels.formula.api as smf\n",
    "formula='overallCrimeRatesPer1M ~ AnnualPoliceFundingDollarsPerResident + A + B + C + D'\n",
    "lindf = smf.ols(formula, data=combineDF)\n",
    "result = lindf.fit()\n",
    "print(\"\\nCoefficients for all android apps with log variables(Download,Raters,Age)\\n\")\n",
    "print(result.summary())"
   ]
  },
  {
   "cell_type": "code",
   "execution_count": 160,
   "metadata": {
    "collapsed": false
   },
   "outputs": [
    {
     "data": {
      "text/html": [
       "<div>\n",
       "<table border=\"1\" class=\"dataframe\">\n",
       "  <thead>\n",
       "    <tr style=\"text-align: right;\">\n",
       "      <th></th>\n",
       "      <th>District-ID</th>\n",
       "      <th>Crime-Rate-per-1M-Residents</th>\n",
       "      <th>Violent-Crime-Rate-per-100K-Residents</th>\n",
       "      <th>AnnualPoliceFundingDollarsPerResident</th>\n",
       "      <th>overallCrimeRatesPer1M</th>\n",
       "      <th>A</th>\n",
       "      <th>B</th>\n",
       "      <th>C</th>\n",
       "      <th>D</th>\n",
       "    </tr>\n",
       "  </thead>\n",
       "  <tbody>\n",
       "    <tr>\n",
       "      <th>District-ID</th>\n",
       "      <td>1.000000</td>\n",
       "      <td>-0.185397</td>\n",
       "      <td>-0.188483</td>\n",
       "      <td>-0.328059</td>\n",
       "      <td>-0.190495</td>\n",
       "      <td>0.141582</td>\n",
       "      <td>-0.657256</td>\n",
       "      <td>0.964544</td>\n",
       "      <td>0.487841</td>\n",
       "    </tr>\n",
       "    <tr>\n",
       "      <th>Crime-Rate-per-1M-Residents</th>\n",
       "      <td>-0.185397</td>\n",
       "      <td>1.000000</td>\n",
       "      <td>0.756505</td>\n",
       "      <td>0.533198</td>\n",
       "      <td>0.777195</td>\n",
       "      <td>-0.135459</td>\n",
       "      <td>0.322519</td>\n",
       "      <td>-0.175224</td>\n",
       "      <td>-0.026283</td>\n",
       "    </tr>\n",
       "    <tr>\n",
       "      <th>Violent-Crime-Rate-per-100K-Residents</th>\n",
       "      <td>-0.188483</td>\n",
       "      <td>0.756505</td>\n",
       "      <td>1.000000</td>\n",
       "      <td>0.509339</td>\n",
       "      <td>0.999480</td>\n",
       "      <td>-0.184445</td>\n",
       "      <td>0.291031</td>\n",
       "      <td>-0.199070</td>\n",
       "      <td>-0.045570</td>\n",
       "    </tr>\n",
       "    <tr>\n",
       "      <th>AnnualPoliceFundingDollarsPerResident</th>\n",
       "      <td>-0.328059</td>\n",
       "      <td>0.533198</td>\n",
       "      <td>0.509339</td>\n",
       "      <td>1.000000</td>\n",
       "      <td>0.516364</td>\n",
       "      <td>0.120265</td>\n",
       "      <td>0.311526</td>\n",
       "      <td>-0.277475</td>\n",
       "      <td>0.124502</td>\n",
       "    </tr>\n",
       "    <tr>\n",
       "      <th>overallCrimeRatesPer1M</th>\n",
       "      <td>-0.190495</td>\n",
       "      <td>0.777195</td>\n",
       "      <td>0.999480</td>\n",
       "      <td>0.516364</td>\n",
       "      <td>1.000000</td>\n",
       "      <td>-0.184148</td>\n",
       "      <td>0.295926</td>\n",
       "      <td>-0.200180</td>\n",
       "      <td>-0.045143</td>\n",
       "    </tr>\n",
       "    <tr>\n",
       "      <th>A</th>\n",
       "      <td>0.141582</td>\n",
       "      <td>-0.135459</td>\n",
       "      <td>-0.184445</td>\n",
       "      <td>0.120265</td>\n",
       "      <td>-0.184148</td>\n",
       "      <td>1.000000</td>\n",
       "      <td>-0.537162</td>\n",
       "      <td>0.182364</td>\n",
       "      <td>0.681072</td>\n",
       "    </tr>\n",
       "    <tr>\n",
       "      <th>B</th>\n",
       "      <td>-0.657256</td>\n",
       "      <td>0.322519</td>\n",
       "      <td>0.291031</td>\n",
       "      <td>0.311526</td>\n",
       "      <td>0.295926</td>\n",
       "      <td>-0.537162</td>\n",
       "      <td>1.000000</td>\n",
       "      <td>-0.626953</td>\n",
       "      <td>-0.513958</td>\n",
       "    </tr>\n",
       "    <tr>\n",
       "      <th>C</th>\n",
       "      <td>0.964544</td>\n",
       "      <td>-0.175224</td>\n",
       "      <td>-0.199070</td>\n",
       "      <td>-0.277475</td>\n",
       "      <td>-0.200180</td>\n",
       "      <td>0.182364</td>\n",
       "      <td>-0.626953</td>\n",
       "      <td>1.000000</td>\n",
       "      <td>0.591663</td>\n",
       "    </tr>\n",
       "    <tr>\n",
       "      <th>D</th>\n",
       "      <td>0.487841</td>\n",
       "      <td>-0.026283</td>\n",
       "      <td>-0.045570</td>\n",
       "      <td>0.124502</td>\n",
       "      <td>-0.045143</td>\n",
       "      <td>0.681072</td>\n",
       "      <td>-0.513958</td>\n",
       "      <td>0.591663</td>\n",
       "      <td>1.000000</td>\n",
       "    </tr>\n",
       "  </tbody>\n",
       "</table>\n",
       "</div>"
      ],
      "text/plain": [
       "                                       District-ID  \\\n",
       "District-ID                               1.000000   \n",
       "Crime-Rate-per-1M-Residents              -0.185397   \n",
       "Violent-Crime-Rate-per-100K-Residents    -0.188483   \n",
       "AnnualPoliceFundingDollarsPerResident    -0.328059   \n",
       "overallCrimeRatesPer1M                   -0.190495   \n",
       "A                                         0.141582   \n",
       "B                                        -0.657256   \n",
       "C                                         0.964544   \n",
       "D                                         0.487841   \n",
       "\n",
       "                                       Crime-Rate-per-1M-Residents  \\\n",
       "District-ID                                              -0.185397   \n",
       "Crime-Rate-per-1M-Residents                               1.000000   \n",
       "Violent-Crime-Rate-per-100K-Residents                     0.756505   \n",
       "AnnualPoliceFundingDollarsPerResident                     0.533198   \n",
       "overallCrimeRatesPer1M                                    0.777195   \n",
       "A                                                        -0.135459   \n",
       "B                                                         0.322519   \n",
       "C                                                        -0.175224   \n",
       "D                                                        -0.026283   \n",
       "\n",
       "                                       Violent-Crime-Rate-per-100K-Residents  \\\n",
       "District-ID                                                        -0.188483   \n",
       "Crime-Rate-per-1M-Residents                                         0.756505   \n",
       "Violent-Crime-Rate-per-100K-Residents                               1.000000   \n",
       "AnnualPoliceFundingDollarsPerResident                               0.509339   \n",
       "overallCrimeRatesPer1M                                              0.999480   \n",
       "A                                                                  -0.184445   \n",
       "B                                                                   0.291031   \n",
       "C                                                                  -0.199070   \n",
       "D                                                                  -0.045570   \n",
       "\n",
       "                                       AnnualPoliceFundingDollarsPerResident  \\\n",
       "District-ID                                                        -0.328059   \n",
       "Crime-Rate-per-1M-Residents                                         0.533198   \n",
       "Violent-Crime-Rate-per-100K-Residents                               0.509339   \n",
       "AnnualPoliceFundingDollarsPerResident                               1.000000   \n",
       "overallCrimeRatesPer1M                                              0.516364   \n",
       "A                                                                   0.120265   \n",
       "B                                                                   0.311526   \n",
       "C                                                                  -0.277475   \n",
       "D                                                                   0.124502   \n",
       "\n",
       "                                       overallCrimeRatesPer1M         A  \\\n",
       "District-ID                                         -0.190495  0.141582   \n",
       "Crime-Rate-per-1M-Residents                          0.777195 -0.135459   \n",
       "Violent-Crime-Rate-per-100K-Residents                0.999480 -0.184445   \n",
       "AnnualPoliceFundingDollarsPerResident                0.516364  0.120265   \n",
       "overallCrimeRatesPer1M                               1.000000 -0.184148   \n",
       "A                                                   -0.184148  1.000000   \n",
       "B                                                    0.295926 -0.537162   \n",
       "C                                                   -0.200180  0.182364   \n",
       "D                                                   -0.045143  0.681072   \n",
       "\n",
       "                                              B         C         D  \n",
       "District-ID                           -0.657256  0.964544  0.487841  \n",
       "Crime-Rate-per-1M-Residents            0.322519 -0.175224 -0.026283  \n",
       "Violent-Crime-Rate-per-100K-Residents  0.291031 -0.199070 -0.045570  \n",
       "AnnualPoliceFundingDollarsPerResident  0.311526 -0.277475  0.124502  \n",
       "overallCrimeRatesPer1M                 0.295926 -0.200180 -0.045143  \n",
       "A                                     -0.537162  0.182364  0.681072  \n",
       "B                                      1.000000 -0.626953 -0.513958  \n",
       "C                                     -0.626953  1.000000  0.591663  \n",
       "D                                     -0.513958  0.591663  1.000000  "
      ]
     },
     "execution_count": 160,
     "metadata": {},
     "output_type": "execute_result"
    }
   ],
   "source": [
    "combineDF.corr()"
   ]
  },
  {
   "cell_type": "code",
   "execution_count": null,
   "metadata": {
    "collapsed": true
   },
   "outputs": [],
   "source": []
  }
 ],
 "metadata": {
  "kernelspec": {
   "display_name": "Python 2",
   "language": "python",
   "name": "python2"
  },
  "language_info": {
   "codemirror_mode": {
    "name": "ipython",
    "version": 2
   },
   "file_extension": ".py",
   "mimetype": "text/x-python",
   "name": "python",
   "nbconvert_exporter": "python",
   "pygments_lexer": "ipython2",
   "version": "2.7.11"
  }
 },
 "nbformat": 4,
 "nbformat_minor": 0
}
